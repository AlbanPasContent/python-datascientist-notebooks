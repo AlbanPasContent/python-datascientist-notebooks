{
  "cells": [
    {
      "cell_type": "markdown",
      "metadata": {},
      "source": [
        "# Mettre à disposition un modèle par le biais d’une API\n",
        "\n",
        "Lino Galiana  \n",
        "2024-09-23\n",
        "\n",
        "Ce chapitre présente la deuxième application\n",
        "d’une journée de cours que j’ai\n",
        "donné à l’Université Dauphine dans le cadre\n",
        "des *PSL Data Week*.\n",
        "\n",
        "L’objectif de ce chapitre est d’amener à développer\n",
        "une API du type de [celle-ci](https://dvf-simple-api.lab.sspcloud.fr)."
      ],
      "id": "42971e7a-fdeb-4bb8-9d7a-8036d58e3e7d"
    },
    {
      "cell_type": "raw",
      "metadata": {
        "raw_mimetype": "text/html"
      },
      "source": [
        "<details open>"
      ],
      "id": "853f3e8d-ba71-4e89-8b22-ae273aa92a4a"
    },
    {
      "cell_type": "raw",
      "metadata": {
        "raw_mimetype": "text/html"
      },
      "source": [
        "<summary>"
      ],
      "id": "23129387-7f66-4513-b892-7676d51b3f3a"
    },
    {
      "cell_type": "markdown",
      "metadata": {},
      "source": [
        "Dérouler les *slides* associées ci-dessous ou [cliquer ici](https://linogaliana.github.io/dauphine-week-data/#/title-slide)\n",
        "pour les afficher en plein écran."
      ],
      "id": "e26c1fd6-c5c3-4802-b647-f75f1b2230cf"
    },
    {
      "cell_type": "raw",
      "metadata": {
        "raw_mimetype": "text/html"
      },
      "source": [
        "</summary>"
      ],
      "id": "6e25b6f8-8df7-4a7a-bab7-e70e8c15b4f1"
    },
    {
      "cell_type": "markdown",
      "metadata": {},
      "source": [
        "<pre class=\"sourceCode yaml code-with-copy\"><code class=\"sourceCode yaml\"></code><button title=\"Copy to Clipboard\" class=\"code-copy-button\"><i class=\"bi\"></i></button></pre>\n",
        "\n",
        "<iframe class=\"sourceCode yaml code-with-copy\" src=\"https://linogaliana.github.io/dauphine-week-data/#/title-slide\">\n",
        "\n",
        "</iframe>"
      ],
      "id": "61424933-621d-4df9-b53d-ac64c6d80eec"
    },
    {
      "cell_type": "raw",
      "metadata": {
        "raw_mimetype": "text/html"
      },
      "source": [
        "</details>"
      ],
      "id": "ffcec45e-b066-4682-a9d9-99bf1c383195"
    },
    {
      "cell_type": "markdown",
      "metadata": {},
      "source": [
        "Le chapitre précédent constituait une introduction à la création\n",
        "de *pipelines* de *machine learning*.\n",
        "Ce chapitre va aller plus loin en montrant la démarche pour le rendre\n",
        "disponible à plus grande échelle par le biais d’une API pouvant\n",
        "être consommée avec de nouvelles données. L’objectif de celle-ci est\n",
        "de ne pas contraindre les réutilisateurs d’un modèle\n",
        "à disposer d’un environnement technique complexe\n",
        "pour pouvoir utiliser le même modèle que celui entraîné précédemment.\n",
        "\n",
        "# 1. Exemple de réutilisation d’un modèle sous forme d’API\n",
        "\n",
        "Un exemple d’API obtenue à l’issue de ce chapitre est\n",
        "mis à disposition sur <https://dvf-simple-api.lab.sspcloud.fr/>.\n",
        "La documentation de l’API est disponible [ici](https://dvf-simple-api.lab.sspcloud.fr/docs).\n",
        "\n",
        "Cette API est utilisable dans plusieurs langages.\n",
        "\n",
        "En `Python`, par exemple, cela donnera:"
      ],
      "id": "4d5a6475-19e0-42bd-a72e-3355407686eb"
    },
    {
      "cell_type": "code",
      "execution_count": 1,
      "metadata": {},
      "outputs": [
        {
          "output_type": "display_data",
          "metadata": {},
          "data": {
            "text/plain": [
              "728358.5461884077"
            ]
          }
        }
      ],
      "source": [
        "import requests\n",
        "\n",
        "pieces_principales = 6\n",
        "surface = 50\n",
        "url = f\"https://dvf-simple-api.lab.sspcloud.fr/predict?month=4&nombre_lots=1&code_type_local=2&nombre_pieces_principales={pieces_principales}&surface={surface}\"\n",
        "requests.get(url).json()\n"
      ],
      "id": "17e0c4ce"
    },
    {
      "cell_type": "markdown",
      "metadata": {},
      "source": [
        "Néanmoins, l’un des intérêts de proposer\n",
        "une API est que les utilisateurs du modèle\n",
        "ne sont pas obligés d’être des pythonistes.\n",
        "Cela accroît grandement la cible des ré-utilisateurs\n",
        "potentiels.\n",
        "\n",
        "Cette approche ouvre notamment la possibilité de\n",
        "faire des applications interactives qui utilisent,\n",
        "en arrière plan, notre modèle entraîné avec `Python`.\n",
        "\n",
        "# 2. Etape 1: créer une application en local\n",
        "\n",
        "Mettre en place une API consiste à gravir une marche\n",
        "dans l’échelle de la reproductibilité par rapport\n",
        "à fournir un *notebook*. Ces derniers\n",
        "ne sont pas les outils les plus adaptés\n",
        "pour partager autre chose que du code, à faire tourner\n",
        "de son côté.\n",
        "\n",
        "Il est donc naturel de sortir des *notebooks*\n",
        "lorsqu’on commence à aller vers ce niveau de mise à\n",
        "disposition.\n",
        "Par le biais de\n",
        "scripts `Python` lancés en ligne de commande,\n",
        "construits en exportant le code du chapitre précédent\n",
        "de nos notebooks, on pourra\n",
        "créer une base de départ propre.\n",
        "\n",
        "Il est plus naturel de privilégier une interface de développement\n",
        "généraliste comme VSCode à Jupyter lorsqu’on franchit\n",
        "ce rubicon. L’exercice suivant permettra donc\n",
        "de créer cette première application minimale, à\n",
        "exécuter en ligne de commande."
      ],
      "id": "ecc77e18-86f2-409a-a2fa-3d74d1949b07"
    },
    {
      "cell_type": "markdown",
      "metadata": {},
      "source": [
        "<div class=\"alert alert-success\" role=\"alert\">\n",
        "<h3 class=\"alert-heading\"><i class=\"fa-solid fa-pencil\"></i> Exercice 1: créer des scripts pour entraîner le modèle</h3>\n",
        "\n",
        "Le dépôt `Github` qui permet de construire l’API *from scratch*\n",
        "est [disponible ici](https://github.com/linogaliana/api-dvf).\n",
        "Nous allons emprunter quelques éléments, par-ci par-là,\n",
        "pour faire notre application en local.\n",
        "\n",
        "-   Créer un nouveau service `VSCode` sur le `SSPCloud` en paramétrant dans l’onglet\n",
        "    `Networking` le port 5000 ;\n",
        "-   Utiliser la commande suivante depuis le terminal:\n",
        "\n",
        "``` shell\n",
        "mkdir app\n",
        "cd app\n",
        "```\n",
        "\n",
        "Depuis le menu des fichiers, créer quatre fichiers dont le contenu\n",
        "suit:\n",
        "\n",
        "-   `requirements.txt`: récupérer le contenu sur [cette page](https://raw.githubusercontent.com/linogaliana/api-dvf/main/requirements.txt) ;\n",
        "\n",
        "-   `getdvf.py`: récupérer le contenu sur [cette page](https://raw.githubusercontent.com/linogaliana/api-dvf/main/getdvf.py) ;\n",
        "\n",
        "-   `train.py`: récupérer le contenu sur [cette page](https://raw.githubusercontent.com/linogaliana/api-dvf/main/train.py) ;\n",
        "\n",
        "-   `api.py`: récupérer le contenu sur [cette page](https://raw.githubusercontent.com/linogaliana/api-dvf/main/main.py).\n",
        "\n",
        "-   Exécuter `getdvf.py` puis `train.py` pour stocker en local le modèle entraîné\n",
        "\n",
        "-   Ajouter `model.joblib` au `.gitignore` *(si vous utilisez `Git`)*\n",
        "\n",
        "-   Créer un script `test.py` qui contient la fonction suivante et la teste après avoir importé votre modèle (`load('pipe.joblib')` en n’oubliant pas `from joblib import load`):\n",
        "\n",
        "``` python\n",
        "import pandas as pd\n",
        "\n",
        "\n",
        "def predict(\n",
        "    month: int = 3,\n",
        "    nombre_lots: int = 1,\n",
        "    code_type_local: int = 2,\n",
        "    nombre_pieces_principales: int = 3,\n",
        "    surface: float = 75,\n",
        ") -> float:\n",
        "    \"\"\" \"\"\"\n",
        "\n",
        "    df = pd.DataFrame(\n",
        "        {\n",
        "            \"month\": [month],\n",
        "            \"Nombre_de_lots\": [nombre_lots],\n",
        "            \"Code_type_local\": [code_type_local],\n",
        "            \"Nombre_pieces_principales\": [nombre_pieces_principales],\n",
        "            \"surface\": [surface],\n",
        "        }\n",
        "    )\n",
        "\n",
        "    prediction = model.predict(df)\n",
        "\n",
        "    return prediction\n",
        "```\n",
        "\n",
        "</div>"
      ],
      "id": "8c43f332-c707-4d93-a3ea-31134366932c"
    },
    {
      "cell_type": "markdown",
      "metadata": {},
      "source": [
        "# 3. Etape 2: créer une API en local\n",
        "\n",
        "Le script précédent constitue déjà un progrès dans\n",
        "la reproductibilité. Il rend plus facile le réentraînement\n",
        "d’un modèle sur le même jeu de données. Néanmoins,\n",
        "il reste tributaire du fait que la personne désirant\n",
        "utiliser du modèle utilise `Python` et sache réentrainer\n",
        "le modèle dans les mêmes conditions que vous.\n",
        "\n",
        "Avec `FastAPI`, nous allons très facilement pouvoir\n",
        "transformer cette application `Python` en une API."
      ],
      "id": "b54211c7-4853-4ebc-a266-267f8e8e5c26"
    },
    {
      "cell_type": "markdown",
      "metadata": {},
      "source": [
        "<div class=\"alert alert-success\" role=\"alert\">\n",
        "<h3 class=\"alert-heading\"><i class=\"fa-solid fa-pencil\"></i> Exercice 2: créer des scripts pour entraîner le modèle</h3>\n",
        "\n",
        "-   La ligne ci-dessous du script `api.py` récupère un modèle pré-entraîné enregistré sur un espace de stockage\n",
        "\n",
        "``` python\n",
        "download_file(\n",
        "    \"https://minio.lab.sspcloud.fr/projet-formation/diffusion/python-datascientist/pipe.joblib\",\n",
        "    \"pipe.joblib\",\n",
        ")\n",
        "```\n",
        "\n",
        "Retirer cette ligne de votre script, pour utiliser\n",
        "le modèle que vous venez d’entraîner.\n",
        "\n",
        "-   Déployer en local l’API avec la commande\n",
        "\n",
        "``` shell\n",
        "uvicorn api:app --reload --host \"0.0.0.0\" --port 5000\n",
        "```\n",
        "\n",
        "-   A partir du `README` du [service VSCode](https://datalab.sspcloud.fr/my-services),\n",
        "    se rendre sur l’URL de déploiement,\n",
        "    ajouter `/docs/` à celui-ci et observer la documentation de l’API\n",
        "-   Se servir de la documentation pour tester les requêtes `/predict`\n",
        "-   Récupérer l’URL d’une des requêtes proposées. La tester dans le navigateur\n",
        "    et depuis `Python` avec `Requests` (`requests.get(url).json()`)\n",
        "-   Optionnel: faire tourner le même code dans un autre environnement que le SSPCloud (par exemple une installation de `Python` en local) pour voir que ça fonctionne de manière identique.\n",
        "\n",
        "</div>"
      ],
      "id": "6e412eec-317b-4d07-95b3-94a2c8a1b191"
    },
    {
      "cell_type": "markdown",
      "metadata": {},
      "source": [
        "# 4. Aller plus loin: mettre à disposition cette API de manière pérenne\n",
        "\n",
        "L’étape précédente permettait de créer un point d’accès\n",
        "à votre modèle depuis n’importe quel type de client. A chaque\n",
        "requête de l’API, le script `api.py` était exécuté et\n",
        "renvoyait son *output*.\n",
        "\n",
        "Ceci est déjà un saut de géant dans l’échelle de la\n",
        "reproductibilité. Néanmoins, cela reste artisanal: si votre\n",
        "serveur local connait un problème (par exemple, vous *killez* l’application), les clients ne recevront plus de réponse,\n",
        "sans comprendre pourquoi.\n",
        "\n",
        "Il est donc plus fiable de mettre en production sur des\n",
        "serveurs dédiés, qui tournent 24h/24 et qui peuvent\n",
        "également se répartir la charge de travail s’il y a\n",
        "beaucoup de demandes instantanées.\n",
        "\n",
        "Ceci dépasse néanmoins\n",
        "le cadre de ce cours et sera l’objet\n",
        "d’un cours dédié en 3e année de l’ENSAE: [“Mise en production de projets *data science*”](https://ensae-reproductibilite.github.io/website/) donné par Romain Avouac et moi."
      ],
      "id": "6a5fdec3-a87d-40f0-9604-1a73b124c462"
    }
  ],
  "nbformat": 4,
  "nbformat_minor": 5,
  "metadata": {
    "kernelspec": {
      "name": "python3",
      "display_name": "Python 3 (ipykernel)",
      "language": "python"
    },
    "language_info": {
      "name": "python",
      "codemirror_mode": {
        "name": "ipython",
        "version": "3"
      },
      "file_extension": ".py",
      "mimetype": "text/x-python",
      "nbconvert_exporter": "python",
      "pygments_lexer": "ipython3",
      "version": "3.11.6"
    }
  }
}