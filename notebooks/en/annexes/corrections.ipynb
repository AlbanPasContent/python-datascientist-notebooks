{
  "cells": [
    {
      "cell_type": "markdown",
      "metadata": {},
      "source": [
        "# Corrections\n",
        "\n",
        "Lino Galiana  \n",
        "2024-09-23\n",
        "\n",
        "Se rendre sur la page en question sur <https://pythonds.linogaliana.fr> pour consulter le contenu."
      ],
      "id": "986f7128-c829-47ba-8b67-d9265b1e6e50"
    }
  ],
  "nbformat": 4,
  "nbformat_minor": 5,
  "metadata": {
    "kernelspec": {
      "display_name": "Python 3",
      "language": "python",
      "name": "python3"
    }
  }
}