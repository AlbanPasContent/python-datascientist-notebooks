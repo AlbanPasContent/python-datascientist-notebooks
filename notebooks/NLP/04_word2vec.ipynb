{
  "cells": [
    {
      "cell_type": "markdown",
      "metadata": {},
      "source": [
        "# Méthodes de vectorisation : comptages et word embeddings\n",
        "\n",
        "Lino Galiana  \n",
        "2024-09-23"
      ],
      "id": "fc885f7b-3f7e-4ed9-a5c4-af1daf6245c8"
    },
    {
      "cell_type": "markdown",
      "metadata": {},
      "source": [
        "<p class=\"badges\">\n",
        "\n",
        "<a href=\"https://github.com/linogaliana/python-datascientist-notebooks/blob/main/notebooks/NLP/04_word2vec.ipynb\" class=\"github\"><i class=\"fab fa-github\"></i></a>\n",
        "<a href=\"https://downgit.github.io/#/home?url=https://github.com/linogaliana/python-datascientist-notebooks/blob/main/notebooks/NLP/04_word2vec.ipynb\" target=\"_blank\" rel=\"noopener\"><img src=\"https://img.shields.io/badge/Download-Notebook-important?logo=Jupyter\" alt=\"Download\"></a>\n",
        "<a href=\"https://nbviewer.jupyter.org/github/linogaliana/python-datascientist-notebooksblob/main/notebooks/NLP/04_word2vec.ipynb\" target=\"_blank\" rel=\"noopener\"><img src=\"https://img.shields.io/badge/Visualize-nbviewer-blue?logo=Jupyter\" alt=\"nbviewer\"></a>\n",
        "<a href=\"https://datalab.sspcloud.fr/launcher/ide/jupyter-pytorch?autoLaunch=true&onyxia.friendlyName=%C2%AB04_word2vec%C2%BB&init.personalInit=%C2%ABhttps%3A%2F%2Fraw.githubusercontent.com%2Flinogaliana%2Fpython-datascientist%2Fmaster%2Fsspcloud%2Finit-jupyter.sh%C2%BB&init.personalInitArgs=%C2%ABNLP%2004_word2vec%C2%BB&security.allowlist.enabled=false\" target=\"_blank\" rel=\"noopener\"><img src=\"https://img.shields.io/badge/SSP%20Cloud-Tester_avec_Jupyter-orange?logo=Jupyter&logoColor=orange\" alt=\"Onyxia\"></a>\n",
        "<a href=\"https://datalab.sspcloud.fr/launcher/ide/vscode-pytorch?autoLaunch=true&onyxia.friendlyName=%C2%AB04_word2vec%C2%BB&init.personalInit=%C2%ABhttps%3A%2F%2Fraw.githubusercontent.com%2Flinogaliana%2Fpython-datascientist%2Fmaster%2Fsspcloud%2Finit-vscode.sh%C2%BB&init.personalInitArgs=%C2%ABNLP%2004_word2vec%C2%BB&security.allowlist.enabled=false\" target=\"_blank\" rel=\"noopener\"><img src=\"https://img.shields.io/badge/SSP%20Cloud-Tester_avec_VSCode-blue?logo=visualstudiocode&logoColor=blue\" alt=\"Onyxia\"></a><br>\n",
        "<a href=\"https://colab.research.google.com/github/linogaliana/python-datascientist-notebooks/blob/main/notebooks/NLP/04_word2vec.ipynb\" target=\"_blank\" rel=\"noopener\"><img src=\"https://colab.research.google.com/assets/colab-badge.svg\" alt=\"Open In Colab\"></a>\n",
        "<a href=\"https://github.dev/linogaliana/python-datascientist-notebooks/notebooks/NLP/04_word2vec.ipynb\" target=\"_blank\" rel=\"noopener\"><img src=\"https://img.shields.io/static/v1?logo=visualstudiocode&label=&message=Open%20in%20Visual%20Studio%20Code&labelColor=2c2c32&color=007acc&logoColor=007acc\" alt=\"githubdev\"></a>\n",
        "\n",
        "</p>\n",
        "\n",
        "</p>"
      ],
      "id": "ebf473e3-f75d-451e-9b68-88c237797f6f"
    },
    {
      "cell_type": "markdown",
      "metadata": {},
      "source": [
        "<div class=\"alert alert-danger\" role=\"alert\">\n",
        "<h3 class=\"alert-heading\"><i class=\"fa-solid fa-triangle-exclamation\"></i> Warning</h3>\n",
        "\n",
        "Ce chapitre va évoluer prochainement.\n",
        "\n",
        "</div>\n",
        "\n",
        "Cette page approfondit certains aspects présentés dans la\n",
        "[partie introductive](../../content/NLP/02_exoclean.qmd). Après avoir travaillé sur le\n",
        "*Comte de Monte Cristo*, on va continuer notre exploration de la littérature\n",
        "avec cette fois des auteurs anglophones :\n",
        "\n",
        "-   Edgar Allan Poe, (EAP) ;\n",
        "-   HP Lovecraft (HPL) ;\n",
        "-   Mary Wollstonecraft Shelley (MWS).\n",
        "\n",
        "Les données sont disponibles sur un CSV mis à disposition sur [`Github`](https://github.com/GU4243-ADS/spring2018-project1-ginnyqg/blob/master/data/spooky.csv). L’URL pour les récupérer directement est\n",
        "<https://github.com/GU4243-ADS/spring2018-project1-ginnyqg/raw/master/data/spooky.csv>.\n",
        "\n",
        "Le but va être dans un premier temps de regarder dans le détail les termes les plus fréquents utilisés par les auteurs et de les représenter graphiquement, puis on va ensuite essayer de prédire quel texte correspond à quel auteur à partir de différents modèles de vectorisation, notamment les *word embeddings*.\n",
        "\n",
        "Ce chapitre s’inspire de plusieurs ressources disponibles en ligne:\n",
        "\n",
        "-   Un [premier *notebook* sur `Kaggle`](https://www.kaggle.com/enerrio/scary-nlp-with-spacy-and-keras)\n",
        "    et un [deuxième](https://www.kaggle.com/meiyizi/spooky-nlp-and-topic-modelling-tutorial/notebook) ;\n",
        "-   Un [dépôt `Github`](https://github.com/GU4243-ADS/spring2018-project1-ginnyqg) ;\n",
        "\n",
        "# 1. Packages à installer\n",
        "\n",
        "Comme dans la [partie précédente](../../content/NLP/02_exoclean.qmd), il faut télécharger des librairies\n",
        "spécialiséees pour le NLP, ainsi que certaines de leurs dépendances."
      ],
      "id": "d8b49930-82e5-4883-81e0-e2803e66e4e3"
    },
    {
      "cell_type": "code",
      "execution_count": 2,
      "metadata": {},
      "outputs": [],
      "source": [
        "!pip install scipy==1.12 gensim sentence_transformers pandas matplotlib seaborn"
      ],
      "id": "6b8629e3"
    },
    {
      "cell_type": "markdown",
      "metadata": {},
      "source": [
        "Ensuite, comme nous allons utiliser la librairie `SpaCy` avec un corpus de textes\n",
        "en Anglais, il convient de télécharger le modèle NLP pour l’Anglais. Pour cela,\n",
        "on peut se référer à [la documentation de `SpaCy`](https://spacy.io/usage/models),\n",
        "extrêmement bien faite."
      ],
      "id": "465311dc-1cb0-424f-bb98-52715e240c19"
    },
    {
      "cell_type": "code",
      "execution_count": 3,
      "metadata": {},
      "outputs": [],
      "source": [
        "!python -m spacy download en_core_web_sm"
      ],
      "id": "446a3864"
    },
    {
      "cell_type": "code",
      "execution_count": 4,
      "metadata": {},
      "outputs": [],
      "source": [
        "from collections import Counter\n",
        "\n",
        "import numpy as np\n",
        "import pandas as pd\n",
        "import matplotlib.pyplot as plt\n",
        "import seaborn as sns\n",
        "import gensim\n",
        "\n",
        "from sklearn.preprocessing import LabelEncoder\n",
        "from sklearn.model_selection import train_test_split\n",
        "from sklearn.pipeline import Pipeline\n",
        "from sklearn.preprocessing import StandardScaler\n",
        "from sklearn.svm import LinearSVC\n",
        "from sklearn.feature_extraction.text import CountVectorizer, TfidfVectorizer\n",
        "from sklearn.model_selection import GridSearchCV, cross_val_score\n",
        "\n",
        "from gensim.models.word2vec import Word2Vec\n",
        "import gensim.downloader\n",
        "from sentence_transformers import SentenceTransformer\n"
      ],
      "id": "0b20f570"
    },
    {
      "cell_type": "markdown",
      "metadata": {},
      "source": [
        "# 2. Nettoyage des données\n",
        "\n",
        "Nous allons ainsi à nouveau utiliser le jeu de données `spooky` :"
      ],
      "id": "6ed6e877-eaed-4252-bc9c-2936c7ac8bac"
    },
    {
      "cell_type": "code",
      "execution_count": 5,
      "metadata": {},
      "outputs": [],
      "source": [
        "data_url = \"https://github.com/GU4243-ADS/spring2018-project1-ginnyqg/raw/master/data/spooky.csv\"\n",
        "spooky_df = pd.read_csv(data_url)\n"
      ],
      "id": "275f8126"
    },
    {
      "cell_type": "markdown",
      "metadata": {},
      "source": [
        "Le jeu de données met ainsi en regard un auteur avec une phrase qu’il a écrite :"
      ],
      "id": "5aced9c2-9855-4a64-9406-04236dea5047"
    },
    {
      "cell_type": "code",
      "execution_count": 6,
      "metadata": {},
      "outputs": [],
      "source": [
        "spooky_df.head()\n"
      ],
      "id": "a44a56b4"
    },
    {
      "cell_type": "markdown",
      "metadata": {},
      "source": [
        "## 2.1 Preprocessing\n",
        "\n",
        "En NLP, la première étape est souvent celle du *preprocessing*, qui inclut notamment les étapes de tokenization et de nettoyage du texte. Comme celles-ci ont été vues en détail dans le précédent chapitre, on se contentera ici d’un *preprocessing* minimaliste : suppression de la ponctuation et des *stop words* (pour la visualisation et les méthodes de vectorisation basées sur des comptages).\n",
        "\n",
        "Jusqu’à présent, nous avons utilisé principalement `nltk` pour le\n",
        "*preprocessing* de données textuelles. Cette fois, nous proposons\n",
        "d’utiliser la librairie `spaCy` qui permet de mieux automatiser sous forme de\n",
        "*pipelines* de *preprocessing*.\n",
        "\n",
        "Pour initialiser le processus de nettoyage,\n",
        "on va utiliser le corpus `en_core_web_sm` (voir plus\n",
        "haut pour l’installation de ce corpus):"
      ],
      "id": "a232db73-7c23-405a-84ef-4f47ada8dbf4"
    },
    {
      "cell_type": "code",
      "execution_count": 7,
      "metadata": {},
      "outputs": [],
      "source": [
        "import spacy\n",
        "\n",
        "nlp = spacy.load(\"en_core_web_sm\")\n"
      ],
      "id": "61449524"
    },
    {
      "cell_type": "markdown",
      "metadata": {},
      "source": [
        "On va utiliser un `pipe` `spacy` qui permet d’automatiser, et de paralléliser,\n",
        "un certain nombre d’opérations. Les *pipes* sont l’équivalent, en NLP, de\n",
        "nos *pipelines* `scikit` ou des *pipes* `pandas`. Il s’agit donc d’un outil\n",
        "très approprié pour industrialiser un certain nombre d’opérations de\n",
        "*preprocessing* :"
      ],
      "id": "be846780-58d6-454a-b644-56b003aed796"
    },
    {
      "cell_type": "code",
      "execution_count": 8,
      "metadata": {},
      "outputs": [],
      "source": [
        "def clean_docs(texts, remove_stopwords=False, n_process=4):\n",
        "\n",
        "    docs = nlp.pipe(\n",
        "        texts, n_process=n_process, disable=[\"parser\", \"ner\", \"lemmatizer\", \"textcat\"]\n",
        "    )\n",
        "    stopwords = nlp.Defaults.stop_words\n",
        "\n",
        "    docs_cleaned = []\n",
        "    for doc in docs:\n",
        "        tokens = [tok.text.lower().strip() for tok in doc if not tok.is_punct]\n",
        "        if remove_stopwords:\n",
        "            tokens = [tok for tok in tokens if tok not in stopwords]\n",
        "        doc_clean = \" \".join(tokens)\n",
        "        docs_cleaned.append(doc_clean)\n",
        "\n",
        "    return docs_cleaned\n"
      ],
      "id": "878ec1e0"
    },
    {
      "cell_type": "markdown",
      "metadata": {},
      "source": [
        "On applique la fonction `clean_docs` à notre colonne `pandas`.\n",
        "Les `pandas.Series` étant itérables, elles se comportent comme des listes et\n",
        "fonctionnent ainsi très bien avec notre `pipe` `spacy`."
      ],
      "id": "63b46565-2877-4112-b974-af721bb0474d"
    },
    {
      "cell_type": "code",
      "execution_count": 9,
      "metadata": {},
      "outputs": [],
      "source": [
        "spooky_df[\"text_clean\"] = clean_docs(spooky_df[\"text\"])\n"
      ],
      "id": "7015624d"
    },
    {
      "cell_type": "code",
      "execution_count": 10,
      "metadata": {},
      "outputs": [],
      "source": [
        "spooky_df.head()\n"
      ],
      "id": "878a72a1"
    },
    {
      "cell_type": "markdown",
      "metadata": {},
      "source": [
        "## 2.2 Encodage de la variable à prédire\n",
        "\n",
        "On réalise un simple encodage de la variable à prédire :\n",
        "il y a trois catégories (auteurs), représentées par des entiers 0, 1 et 2.\n",
        "\n",
        "Pour cela, on utilise le `LabelEncoder` de `scikit` déjà présenté\n",
        "dans la [partie modélisation](#preprocessing). On va utiliser la méthode\n",
        "`fit_transform` qui permet, en un tour de main, d’appliquer à la fois\n",
        "l’entraînement (`fit`), à savoir la création d’une correspondance entre valeurs\n",
        "numériques et *labels*, et l’appliquer (`transform`) à la même colonne."
      ],
      "id": "3cf864c6-433f-4ba1-b474-24b3c6348454"
    },
    {
      "cell_type": "code",
      "execution_count": 11,
      "metadata": {},
      "outputs": [],
      "source": [
        "le = LabelEncoder()\n",
        "spooky_df[\"author_encoded\"] = le.fit_transform(spooky_df[\"author\"])\n"
      ],
      "id": "18588e23"
    },
    {
      "cell_type": "markdown",
      "metadata": {},
      "source": [
        "On peut vérifier les classes de notre `LabelEncoder` :"
      ],
      "id": "57d016c1-a508-4651-b4e3-589761113c77"
    },
    {
      "cell_type": "code",
      "execution_count": 12,
      "metadata": {},
      "outputs": [],
      "source": [
        "le.classes_\n"
      ],
      "id": "75c36b82"
    },
    {
      "cell_type": "markdown",
      "metadata": {},
      "source": [
        "## 2.3 Construction des bases d’entraînement et de test\n",
        "\n",
        "On met de côté un échantillon de test (20 %) avant toute analyse (même descriptive).\n",
        "Cela permettra d’évaluer nos différents modèles toute à la fin de manière très rigoureuse,\n",
        "puisque ces données n’auront jamais utilisées pendant l’entraînement."
      ],
      "id": "a40a38ec-1a9a-4011-94f5-d0f3debf35b9"
    },
    {
      "cell_type": "code",
      "execution_count": 13,
      "metadata": {},
      "outputs": [],
      "source": [
        "y = spooky_df[\"author_encoded\"]\n",
        "X = spooky_df[\"text_clean\"]\n",
        "X_train, X_test, y_train, y_test = train_test_split(\n",
        "    X, y, test_size=0.2, stratify=y, random_state=42\n",
        ")\n"
      ],
      "id": "ea62f619"
    },
    {
      "cell_type": "markdown",
      "metadata": {},
      "source": [
        "Notre échantillon initial n’est pas équilibré (*balanced*) : on retrouve plus d’oeuvres de\n",
        "certains auteurs que d’autres. Afin d’obtenir un modèle qui soit évalué au mieux, nous allons donc stratifier notre échantillon de manière à obtenir une répartition similaire d’auteurs dans nos\n",
        "ensembles d’entraînement et de test.\n",
        "\n",
        "Aperçu du premier élément de `X_train` :"
      ],
      "id": "2fd7cb75-1d65-436c-a863-f3a85e4c37aa"
    },
    {
      "cell_type": "code",
      "execution_count": 14,
      "metadata": {},
      "outputs": [],
      "source": [
        "X_train[0]\n"
      ],
      "id": "591aae88"
    },
    {
      "cell_type": "markdown",
      "metadata": {},
      "source": [
        "On peut aussi vérifier qu’on est capable de retrouver\n",
        "la correspondance entre nos auteurs initiaux avec\n",
        "la méthode `inverse_transform` :"
      ],
      "id": "a4060584-a5ce-4351-b93e-f363802674c4"
    },
    {
      "cell_type": "code",
      "execution_count": 15,
      "metadata": {},
      "outputs": [],
      "source": [
        "print(y_train[0], le.inverse_transform([y_train[0]])[0])\n"
      ],
      "id": "07be6699"
    },
    {
      "cell_type": "markdown",
      "metadata": {},
      "source": [
        "# 3. Statistiques exploratoires\n",
        "\n",
        "## 3.1 Répartition des labels\n",
        "\n",
        "Refaisons un graphique que nous avons déjà produit précédemment pour voir\n",
        "la répartition de notre corpus entre auteurs :"
      ],
      "id": "d2afa7f1-d95c-4e19-8dd4-acd914757de2"
    },
    {
      "cell_type": "code",
      "execution_count": 16,
      "metadata": {},
      "outputs": [],
      "source": [
        "fig = pd.Series(le.inverse_transform(y_train)).value_counts().plot(kind=\"bar\")\n",
        "fig\n"
      ],
      "id": "c3a80f98"
    },
    {
      "cell_type": "markdown",
      "metadata": {},
      "source": [
        "On observe une petite asymétrie : les passages des livres d’Edgar Allen Poe sont plus nombreux que ceux des autres auteurs dans notre corpus d’entraînement, ce qui peut être problématique dans le cadre d’une tâche de classification.\n",
        "L’écart n’est pas dramatique, mais on essaiera d’en tenir compte dans l’analyse en choisissant une métrique d’évaluation pertinente.\n",
        "\n",
        "## 3.2 Mots les plus fréquemment utilisés par chaque auteur\n",
        "\n",
        "On va supprimer les *stop words* pour réduire le bruit dans notre jeu\n",
        "de données."
      ],
      "id": "d462f927-386d-4231-8c60-137be26a9465"
    },
    {
      "cell_type": "code",
      "execution_count": 18,
      "metadata": {},
      "outputs": [],
      "source": [
        "# Suppression des stop words\n",
        "X_train_no_sw = clean_docs(X_train, remove_stopwords=True)\n",
        "X_train_no_sw = np.array(X_train_no_sw)\n"
      ],
      "id": "01f06146"
    },
    {
      "cell_type": "markdown",
      "metadata": {},
      "source": [
        "Pour visualiser rapidement nos corpus, on peut utiliser la technique des\n",
        "nuages de mots déjà vue à plusieurs reprises.\n",
        "\n",
        "Vous pouvez essayer de faire vous-même les nuages ci-dessous\n",
        "ou cliquer sur la ligne ci-dessous pour afficher le code ayant\n",
        "généré les figures :"
      ],
      "id": "34775d24-3c36-4faa-b586-0b445521b9f9"
    },
    {
      "cell_type": "markdown",
      "metadata": {},
      "source": [
        "<details><summary><code>Cliquer pour afficher le code</code> 👇</summary>\n",
        "\n",
        "``` python\n",
        "def plot_top_words(initials, ax, n_words=20):\n",
        "    # Calcul des mots les plus fréquemment utilisés par l'auteur\n",
        "    texts = X_train_no_sw[le.inverse_transform(y_train) == initials]\n",
        "    all_tokens = \" \".join(texts).split()\n",
        "    counts = Counter(all_tokens)\n",
        "    top_words = [word[0] for word in counts.most_common(n_words)]\n",
        "    top_words_counts = [word[1] for word in counts.most_common(n_words)]\n",
        "\n",
        "    # Représentation sous forme de barplot\n",
        "    ax = sns.barplot(ax=ax, x=top_words, y=top_words_counts)\n",
        "    ax.set_title(f\"Most Common Words used by {initials_to_author[initials]}\")\n",
        "```\n",
        "\n",
        "``` python\n",
        "initials_to_author = {\n",
        "    \"EAP\": \"Edgar Allen Poe\",\n",
        "    \"HPL\": \"H.P. Lovecraft\",\n",
        "    \"MWS\": \"Mary Wollstonecraft Shelley\",\n",
        "}\n",
        "\n",
        "fig, axs = plt.subplots(3, 1, figsize=(12, 12))\n",
        "\n",
        "plot_top_words(\"EAP\", ax=axs[0])\n",
        "plot_top_words(\"HPL\", ax=axs[1])\n",
        "plot_top_words(\"MWS\", ax=axs[2])\n",
        "```\n",
        "\n",
        "</details>"
      ],
      "id": "b42f6ba9-eed3-4d81-96c0-c763d17fbc4d"
    },
    {
      "cell_type": "markdown",
      "metadata": {},
      "source": [
        "Beaucoup de mots se retrouvent très utilisés par les trois auteurs.\n",
        "Il y a cependant des différences notables : le mot *“life”*\n",
        "est le plus employé par MWS, alors qu’il n’apparaît pas dans les deux autres tops.\n",
        "De même, le mot *“old”* est le plus utilisé par HPL\n",
        "là où les deux autres ne l’utilisent pas de manière surreprésentée.\n",
        "\n",
        "Il semble donc qu’il y ait des particularités propres à chacun des auteurs\n",
        "en termes de vocabulaire,\n",
        "ce qui laisse penser qu’il est envisageable de prédire les auteurs à partir\n",
        "de leurs textes dans une certaine mesure.\n",
        "\n",
        "# 4. Prédiction sur le set d’entraînement\n",
        "\n",
        "Nous allons à présent vérifier cette conjecture en comparant\n",
        "plusieurs modèles de vectorisation,\n",
        "*i.e.* de transformation du texte en objets numériques\n",
        "pour que l’information contenue soit exploitable dans un modèle de classification.\n",
        "\n",
        "## 4.1 Démarche\n",
        "\n",
        "Comme nous nous intéressons plus à l’effet de la vectorisation qu’à la tâche de classification en elle-même,\n",
        "nous allons utiliser un algorithme de classification simple (un SVM linéaire), avec des paramètres non fine-tunés (c’est-à-dire des paramètres pas nécessairement choisis pour être les meilleurs de tous)."
      ],
      "id": "23801ff4-f3ca-47fa-98e3-babeae0387dd"
    },
    {
      "cell_type": "code",
      "execution_count": 22,
      "metadata": {},
      "outputs": [],
      "source": [
        "clf = LinearSVC(max_iter=10000, C=0.1, dual=\"auto\")\n"
      ],
      "id": "264c3c04"
    },
    {
      "cell_type": "markdown",
      "metadata": {},
      "source": [
        "Ce modèle est connu pour être très performant sur les tâches de classification de texte, et nous fournira donc un bon modèle de référence (*baseline*). Cela nous permettra également de comparer de manière objective l’impact des méthodes de vectorisation sur la performance finale.\n",
        "\n",
        "Pour les deux premières méthodes de vectorisation\n",
        "(basées sur des fréquences et fréquences relatives des mots),\n",
        "on va simplement normaliser les données d’entrée, ce qui va permettre au SVM de converger plus rapidement, ces modèles étant sensibles aux différences d’échelle dans les données.\n",
        "\n",
        "On va également *fine-tuner* via *grid-search*\n",
        "certains hyperparamètres liés à ces méthodes de vectorisation :\n",
        "\n",
        "-   on teste différents *ranges* de `n-grams` (unigrammes et unigrammes + bigrammes)\n",
        "-   on teste avec et sans *stop-words*\n",
        "\n",
        "Afin d’éviter le surapprentissage,\n",
        "on va évaluer les différents modèles via validation croisée, calculée sur 4 blocs.\n",
        "\n",
        "On récupère à la fin le meilleur modèle selon une métrique spécifiée.\n",
        "On choisit le `score F1`,\n",
        "moyenne harmonique de la précision et du rappel,\n",
        "qui donne un poids équilibré aux deux métriques, tout en pénalisant fortement le cas où l’une des deux est faible.\n",
        "Précisément, on retient le `score F1 *micro-averaged*` :\n",
        "les contributions des différentes classes à prédire sont agrégées,\n",
        "puis on calcule le `score F1` sur ces données agrégées.\n",
        "L’avantage de ce choix est qu’il permet de tenir compte des différences\n",
        "de fréquences des différentes classes.\n",
        "\n",
        "## 4.2 Pipeline de prédiction\n",
        "\n",
        "On va utiliser un *pipeline* `scikit` ce qui va nous permettre d’avoir\n",
        "un code très concis pour effectuer cet ensemble de tâches cohérentes.\n",
        "De plus, cela va nous assurer de gérer de manière cohérente nos différentes\n",
        "transformations (cf. [partie sur les pipelines](#pipelines))\n",
        "\n",
        "Pour se faciliter la vie, on définit une fonction `fit_vectorizers` qui\n",
        "intègre dans un *pipeline* générique une méthode d’estimation `scikit`\n",
        "et fait de la validation croisée en cherchant le meilleur modèle\n",
        "(en excluant/incluant les *stop words* et avec unigrammes/bigrammes)"
      ],
      "id": "61c23525-d0ac-4529-9118-a2cf64f5f3b8"
    },
    {
      "cell_type": "code",
      "execution_count": 23,
      "metadata": {},
      "outputs": [],
      "source": [
        "def fit_vectorizers(vectorizer):\n",
        "    pipeline = Pipeline(\n",
        "        [\n",
        "            (\"vect\", vectorizer()),\n",
        "            (\"scaling\", StandardScaler(with_mean=False)),\n",
        "            (\"clf\", clf),\n",
        "        ]\n",
        "    )\n",
        "\n",
        "    parameters = {\n",
        "        \"vect__ngram_range\": ((1, 1), (1, 2)),  # unigrams or bigrams\n",
        "        \"vect__stop_words\": (\"english\", None),\n",
        "    }\n",
        "\n",
        "    grid_search = GridSearchCV(\n",
        "        pipeline, parameters, scoring=\"f1_micro\", cv=4, n_jobs=4, verbose=1\n",
        "    )\n",
        "    grid_search.fit(X_train, y_train)\n",
        "\n",
        "    best_parameters = grid_search.best_estimator_.get_params()\n",
        "    for param_name in sorted(parameters.keys()):\n",
        "        print(\"\\t%s: %r\" % (param_name, best_parameters[param_name]))\n",
        "\n",
        "    print(f\"CV scores {grid_search.cv_results_['mean_test_score']}\")\n",
        "    print(f\"Mean F1 {np.mean(grid_search.cv_results_['mean_test_score'])}\")\n",
        "\n",
        "    return grid_search\n"
      ],
      "id": "af945654"
    },
    {
      "cell_type": "markdown",
      "metadata": {},
      "source": [
        "# 5. Approche *bag-of-words*\n",
        "\n",
        "On commence par une approche **“bag-of-words”**,\n",
        "i.e. qui revient simplement à représenter chaque document par un vecteur\n",
        "qui compte le nombre d’apparitions de chaque mot du vocabulaire dans le document.\n",
        "\n",
        "Illustrons d’abord le principe à l’aide d’un exemple simple."
      ],
      "id": "964bf25b-737c-41bd-bd13-ad5ddfe6bfe8"
    },
    {
      "cell_type": "code",
      "execution_count": 24,
      "metadata": {},
      "outputs": [],
      "source": [
        "corpus = [\n",
        "    \"Un premier document à propos des chats.\",\n",
        "    \"Un second document qui parle des chiens.\",\n",
        "]\n",
        "\n",
        "vectorizer = CountVectorizer()\n",
        "vectorizer.fit(corpus)\n"
      ],
      "id": "c014c025"
    },
    {
      "cell_type": "markdown",
      "metadata": {},
      "source": [
        "L’objet `vectorizer` a été “entraîné” (*fit*) sur notre corpus d’exemple contenant deux documents. Il a notamment appris le vocabulaire complet du corpus, dont on peut afficher l’ordre."
      ],
      "id": "6231cc20-3732-4ada-b3e9-71f18e921145"
    },
    {
      "cell_type": "code",
      "execution_count": 25,
      "metadata": {},
      "outputs": [],
      "source": [
        "vectorizer.get_feature_names_out()\n"
      ],
      "id": "38d7e6ac"
    },
    {
      "cell_type": "markdown",
      "metadata": {},
      "source": [
        "L’objet `vectorizer` entraîné peut maintenant vectoriser le corpus initial, selon l’ordre du vocabulaire affiché ci-dessus."
      ],
      "id": "20318818-548d-456e-9252-e16c5c7fd845"
    },
    {
      "cell_type": "code",
      "execution_count": 26,
      "metadata": {},
      "outputs": [],
      "source": [
        "X = vectorizer.transform(corpus)\n",
        "print(X.toarray())\n"
      ],
      "id": "1328da9d"
    },
    {
      "cell_type": "markdown",
      "metadata": {},
      "source": [
        "Quel score `F1` obtient-on finalement avec cette méthode de vectorisation sur notre problème de classification d’auteurs ?"
      ],
      "id": "cd13aacd-1160-4d47-a9f3-018af8fcc47f"
    },
    {
      "cell_type": "code",
      "execution_count": 27,
      "metadata": {},
      "outputs": [],
      "source": [
        "cv_bow = fit_vectorizers(CountVectorizer)\n"
      ],
      "id": "384958e6"
    },
    {
      "cell_type": "markdown",
      "metadata": {},
      "source": [
        "# 6. TF-IDF\n",
        "\n",
        "On s’intéresse ensuite à l’approche **TF-IDF**,\n",
        "qui permet de tenir compte des fréquences *relatives* des mots.\n",
        "\n",
        "Ainsi, pour un mot donné, on va multiplier la fréquence d’apparition du mot dans le document (calculé comme dans la méthode précédente) par un terme qui pénalise une fréquence élevée du mot dans le corpus. L’image ci-dessous, empruntée à Chris Albon, illustre cette mesure:\n",
        "\n",
        "![](https://minio.lab.sspcloud.fr/lgaliana/generative-art/pythonds/tfidf.png)\n",
        "\n",
        "*Source: [Towards Data Science](https://towardsdatascience.com/tf-term-frequency-idf-inverse-document-frequency-from-scratch-in-python-6c2b61b78558)*\n",
        "\n",
        "La vectorisation `TF-IDF` permet donc de limiter l’influence des *stop-words*\n",
        "et donc de donner plus de poids aux mots les plus salients d’un document.\n",
        "Illustrons cela à nouveau avec notre corpus d’exemple de deux documents."
      ],
      "id": "14b6718f-da96-40f6-ab42-bf6a09e15fe0"
    },
    {
      "cell_type": "code",
      "execution_count": 28,
      "metadata": {},
      "outputs": [],
      "source": [
        "corpus = [\n",
        "    \"Un premier document à propos des chats.\",\n",
        "    \"Un second document qui parle des chiens.\",\n",
        "]\n",
        "\n",
        "vectorizer = TfidfVectorizer()\n",
        "vectorizer.fit(corpus)\n"
      ],
      "id": "c916c9d3"
    },
    {
      "cell_type": "markdown",
      "metadata": {},
      "source": [
        "Là encore, le vectoriseur a “appris” le vocabulaire du corpus."
      ],
      "id": "73a9a08b-b499-4b08-bb13-caf3a83f476e"
    },
    {
      "cell_type": "code",
      "execution_count": 29,
      "metadata": {},
      "outputs": [],
      "source": [
        "vectorizer.get_feature_names_out()\n"
      ],
      "id": "a956d09f"
    },
    {
      "cell_type": "markdown",
      "metadata": {},
      "source": [
        "Et peut être utilisé pour calculer les scores TF-IDF de chacun des termes des documents."
      ],
      "id": "33bf41f7-61c5-4583-9888-0a0c27ff5f76"
    },
    {
      "cell_type": "code",
      "execution_count": 30,
      "metadata": {},
      "outputs": [],
      "source": [
        "X = vectorizer.transform(corpus)\n",
        "print(X.toarray())\n"
      ],
      "id": "cfea0674"
    },
    {
      "cell_type": "markdown",
      "metadata": {},
      "source": [
        "On remarque que “chats” et “chiens” possèdent les scores les plus élevés, ce sont bien les termes les plus distinctifs. A l’inverse, les termes qui reviennent dans les deux documents (“un”, “document”, “des”) ont un score inférieur, car ils sont beaucoup présents dans le corpus relativement.\n",
        "\n",
        "Quel score `F1` obtient-on avec cette méthode de vectorisation sur notre problème de classification d’auteurs ?"
      ],
      "id": "69c56c02-3e95-4a45-8d7f-575391f64656"
    },
    {
      "cell_type": "code",
      "execution_count": 31,
      "metadata": {},
      "outputs": [],
      "source": [
        "cv_tfidf = fit_vectorizers(TfidfVectorizer)\n"
      ],
      "id": "a65e60a1"
    },
    {
      "cell_type": "markdown",
      "metadata": {},
      "source": [
        "On observe clairement que la performance de classification est bien supérieure,\n",
        "ce qui montre la pertinence de cette technique.\n",
        "\n",
        "# 7. Word2vec avec averaging\n",
        "\n",
        "On va maintenant explorer les techniques de vectorisation basées sur les\n",
        "*embeddings* de mots, et notamment la plus populaire : `Word2Vec`.\n",
        "\n",
        "L’idée derrière est simple, mais a révolutionné le NLP :\n",
        "au lieu de représenter les documents par des\n",
        "vecteurs *sparse* de très grande dimension (la taille du vocabulaire)\n",
        "comme on l’a fait jusqu’à présent,\n",
        "on va les représenter par des vecteurs *dense* (continus)\n",
        "de dimension réduite (en général, autour de 100-300).\n",
        "\n",
        "Chacune de ces dimensions va représenter un facteur latent,\n",
        "c’est à dire une variable inobservée,\n",
        "de la même manière que les composantes principales produites par une ACP.\n",
        "\n",
        "![](https://minio.lab.sspcloud.fr/lgaliana/generative-art/pythonds/w2v_vecto.png)\n",
        "\n",
        "*Source: [Medium](https://medium.com/@zafaralibagh6/simple-tutorial-on-word-embedding-and-word2vec-43d477624b6d)*\n",
        "\n",
        "**Pourquoi est-ce intéressant ?**\n",
        "Pour de nombreuses raisons, mais pour résumer :\n",
        "cela permet de beaucoup mieux capturer la similarité sémantique entre les documents.\n",
        "\n",
        "Par exemple, un humain sait qu’un document contenant le mot *“Roi”*\n",
        "et un autre document contenant le mot *“Reine”* ont beaucoup de chance\n",
        "d’aborder des sujets semblables.\n",
        "\n",
        "Pourtant, une vectorisation de type comptage ou TF-IDF\n",
        "ne permet pas de saisir cette similarité :\n",
        "le calcul d’une mesure de similarité (norme euclidienne ou similarité cosinus)\n",
        "entre les deux vecteurs ne prendra en compte la similarité des deux concepts, puisque les mots utilisés sont différents.\n",
        "\n",
        "A l’inverse, un modèle `word2vec` bien entraîné va capter\n",
        "qu’il existe un facteur latent de type *“royauté”*,\n",
        "et la similarité entre les vecteurs associés aux deux mots sera forte.\n",
        "\n",
        "La magie va même plus loin : le modèle captera aussi qu’il existe un\n",
        "facteur latent de type *“genre”*,\n",
        "et va permettre de construire un espace sémantique dans lequel les\n",
        "relations arithmétiques entre vecteurs ont du sens ;\n",
        "par exemple :\n",
        "$$\\text{king} - \\text{man} + \\text{woman} ≈ \\text{queen}$$\n",
        "\n",
        "**Comment ces modèles sont-ils entraînés ?**\n",
        "Via une tâche de prédiction résolue par un réseau de neurones simple.\n",
        "\n",
        "L’idée fondamentale est que la signification d’un mot se comprend\n",
        "en regardant les mots qui apparaissent fréquemment dans son voisinage.\n",
        "\n",
        "Pour un mot donné, on va donc essayer de prédire les mots\n",
        "qui apparaissent dans une fenêtre autour du mot cible.\n",
        "\n",
        "En répétant cette tâche de nombreuses fois et sur un corpus suffisamment varié,\n",
        "on obtient finalement des *embeddings* pour chaque mot du vocabulaire,\n",
        "qui présentent les propriétés discutées précédemment."
      ],
      "id": "6621c6da-fd50-4de7-9a11-58dd1749109d"
    },
    {
      "cell_type": "code",
      "execution_count": 32,
      "metadata": {},
      "outputs": [],
      "source": [
        "X_train_tokens = [text.split() for text in X_train]\n",
        "w2v_model = Word2Vec(X_train_tokens, vector_size=200, window=5, min_count=1, workers=4)\n"
      ],
      "id": "ea7b4295"
    },
    {
      "cell_type": "code",
      "execution_count": 33,
      "metadata": {},
      "outputs": [],
      "source": [
        "w2v_model.wv.most_similar(\"mother\")\n"
      ],
      "id": "e23c8399"
    },
    {
      "cell_type": "markdown",
      "metadata": {},
      "source": [
        "On voit que les mots les plus similaires à *“mother”*\n",
        "sont souvent des mots liés à la famille, mais pas toujours.\n",
        "\n",
        "C’est lié à la taille très restreinte du corpus sur lequel on entraîne le modèle,\n",
        "qui ne permet pas de réaliser des associations toujours pertinentes.\n",
        "\n",
        "L’*embedding* (la représentation vectorielle) de chaque document correspond à la moyenne des *word-embeddings* des mots qui le composent :"
      ],
      "id": "8d9eeb98-f1a7-40ad-b23c-1f2273021e04"
    },
    {
      "cell_type": "code",
      "execution_count": 34,
      "metadata": {},
      "outputs": [],
      "source": [
        "def get_mean_vector(w2v_vectors, words):\n",
        "    words = [word for word in words if word in w2v_vectors]\n",
        "    if words:\n",
        "        avg_vector = np.mean(w2v_vectors[words], axis=0)\n",
        "    else:\n",
        "        avg_vector = np.zeros_like(w2v_vectors[\"hi\"])\n",
        "    return avg_vector\n",
        "\n",
        "\n",
        "def fit_w2v_avg(w2v_vectors):\n",
        "    X_train_vectors = np.array(\n",
        "        [get_mean_vector(w2v_vectors, words) for words in X_train_tokens]\n",
        "    )\n",
        "\n",
        "    scores = cross_val_score(\n",
        "        clf, X_train_vectors, y_train, cv=4, scoring=\"f1_micro\", n_jobs=4\n",
        "    )\n",
        "\n",
        "    print(f\"CV scores {scores}\")\n",
        "    print(f\"Mean F1 {np.mean(scores)}\")\n",
        "    return scores\n"
      ],
      "id": "0f55aaa5"
    },
    {
      "cell_type": "code",
      "execution_count": 35,
      "metadata": {},
      "outputs": [],
      "source": [
        "cv_w2vec = fit_w2v_avg(w2v_model.wv)\n"
      ],
      "id": "b608fdb7"
    },
    {
      "cell_type": "markdown",
      "metadata": {},
      "source": [
        "La performance chute fortement ;\n",
        "la faute à la taille très restreinte du corpus, comme annoncé précédemment.\n",
        "\n",
        "# 8. Word2vec pré-entraîné + averaging\n",
        "\n",
        "Quand on travaille avec des corpus de taille restreinte,\n",
        "c’est généralement une mauvaise idée d’entraîner son propre modèle `word2vec`.\n",
        "\n",
        "Heureusement, des modèles pré-entraînés sur de très gros corpus sont disponibles.\n",
        "Ils permettent de réaliser du *transfer learning*,\n",
        "c’est-à-dire de bénéficier de la performance d’un modèle qui a été entraîné sur une autre tâche ou bien sur un autre corpus.\n",
        "\n",
        "L’un des modèles les plus connus pour démarrer est le `glove_model` de\n",
        "`Gensim` (Glove pour *Global Vectors for Word Representation*)[1]:\n",
        "\n",
        "> GloVe is an unsupervised learning algorithm for obtaining vector representations for words. Training is performed on aggregated global word-word co-occurrence statistics from a corpus, and the resulting representations showcase interesting linear substructures of the word vector space.\n",
        ">\n",
        "> *Source* : https://nlp.stanford.edu/projects/glove/\n",
        "\n",
        "On peut le charger directement grâce à l’instruction suivante :\n",
        "\n",
        "[1] Jeffrey Pennington, Richard Socher, and Christopher D. Manning. 2014. *GloVe: Global Vectors for Word Representation*."
      ],
      "id": "03a2a8cc-b0c7-477d-a949-ffb0b6c05d5c"
    },
    {
      "cell_type": "code",
      "execution_count": 36,
      "metadata": {},
      "outputs": [],
      "source": [
        "glove_model = gensim.downloader.load(\"glove-wiki-gigaword-200\")\n"
      ],
      "id": "6ec83dfa"
    },
    {
      "cell_type": "markdown",
      "metadata": {},
      "source": [
        "Par exemple, la représentation vectorielle de roi est l’objet\n",
        "multidimensionnel suivant :"
      ],
      "id": "a7fe72e1-59f4-4800-b21a-4001575ef553"
    },
    {
      "cell_type": "code",
      "execution_count": 37,
      "metadata": {},
      "outputs": [],
      "source": [
        "glove_model[\"king\"]\n"
      ],
      "id": "22cdbd55"
    },
    {
      "cell_type": "markdown",
      "metadata": {},
      "source": [
        "Comme elle est peu intelligible, on va plutôt rechercher les termes les\n",
        "plus similaires. Par exemple,"
      ],
      "id": "da0b4b99-e369-48a3-a9c3-be0a882302bd"
    },
    {
      "cell_type": "code",
      "execution_count": 38,
      "metadata": {},
      "outputs": [],
      "source": [
        "glove_model.most_similar(\"mother\")\n"
      ],
      "id": "4cdb41ac"
    },
    {
      "cell_type": "markdown",
      "metadata": {},
      "source": [
        "On peut retrouver notre formule précédente\n",
        "\n",
        "$$\\text{king} - \\text{man} + \\text{woman} ≈ \\text{queen}$$\n",
        "dans ce plongement de mots:"
      ],
      "id": "4478feee-e2f4-45d5-b132-c2d31f5a22c9"
    },
    {
      "cell_type": "code",
      "execution_count": 39,
      "metadata": {},
      "outputs": [],
      "source": [
        "glove_model.most_similar(positive=[\"king\", \"woman\"], negative=[\"man\"])\n"
      ],
      "id": "032362e0"
    },
    {
      "cell_type": "markdown",
      "metadata": {},
      "source": [
        "Vous pouvez vous référer à [ce tutoriel](https://jalammar.github.io/illustrated-word2vec/)\n",
        "pour en découvrir plus sur `Word2Vec`.\n",
        "\n",
        "Faisons notre apprentissage par transfert :"
      ],
      "id": "be6473b1-3bb7-44a8-b55a-e2e63889bcb2"
    },
    {
      "cell_type": "code",
      "execution_count": 40,
      "metadata": {},
      "outputs": [],
      "source": [
        "cv_w2vec_transfert = fit_w2v_avg(glove_model)\n"
      ],
      "id": "2dc9728a"
    },
    {
      "cell_type": "markdown",
      "metadata": {},
      "source": [
        "La performance remonte substantiellement.\n",
        "Cela étant, on ne parvient pas à faire mieux que les approches basiques,\n",
        "on arrive à peine aux performances de la vectorisation par comptage.\n",
        "\n",
        "En effet, pour rappel, les performances sont les suivantes :"
      ],
      "id": "15ed0f03-eaaf-44f5-b94a-6ac0edac7cd7"
    },
    {
      "cell_type": "code",
      "execution_count": 41,
      "metadata": {},
      "outputs": [],
      "source": [
        "perfs = pd.DataFrame(\n",
        "    [\n",
        "        np.mean(cv_bow.cv_results_[\"mean_test_score\"]),\n",
        "        np.mean(cv_tfidf.cv_results_[\"mean_test_score\"]),\n",
        "        np.mean(cv_w2vec),\n",
        "        np.mean(cv_w2vec_transfert),\n",
        "    ],\n",
        "    index=[\n",
        "        \"Bag-of-Words\",\n",
        "        \"TF-IDF\",\n",
        "        \"Word2Vec non pré-entraîné\",\n",
        "        \"Word2Vec pré-entraîné\",\n",
        "    ],\n",
        "    columns=[\"Mean F1 score\"],\n",
        ").sort_values(\"Mean F1 score\", ascending=False)\n",
        "perfs\n"
      ],
      "id": "c6813e35"
    },
    {
      "cell_type": "markdown",
      "metadata": {},
      "source": [
        "Les performences limitées du modèle *Word2Vec* sont cette fois certainement dues à la manière dont\n",
        "les *word-embeddings* sont exploités : ils sont moyennés pour décrire chaque document.\n",
        "\n",
        "Cela a plusieurs limites :\n",
        "\n",
        "-   on ne tient pas compte de l’ordre et donc du contexte des mots\n",
        "-   lorsque les documents sont longs, la moyennisation peut créer\n",
        "    des représentation bruitées.\n",
        "\n",
        "# 9. Contextual embeddings\n",
        "\n",
        "Les *embeddings* contextuels visent à pallier les limites des *embeddings*\n",
        "traditionnels évoquées précédemment.\n",
        "\n",
        "Cette fois, les mots n’ont plus de représentation vectorielle fixe,\n",
        "celle-ci est calculée dynamiquement en fonction des mots du voisinage, et ainsi de suite.\n",
        "Cela permet de tenir compte de la structure des phrases\n",
        "et de tenir compte du fait que le sens d’un mot est fortement dépendant des mots\n",
        "qui l’entourent.\n",
        "Par exemple, dans les expressions “le président Macron” et “le camembert Président” le mot président n’a pas du tout le même rôle.\n",
        "\n",
        "Ces *embeddings* sont produits par des architectures très complexes,\n",
        "de type Transformer (`BERT`, etc.).\n",
        "\n",
        "*TODO: approfondir le sujet*"
      ],
      "id": "76a9b9f0-814a-4781-8903-e6038d5e9b8e"
    },
    {
      "cell_type": "code",
      "execution_count": 42,
      "metadata": {},
      "outputs": [],
      "source": [
        "model = SentenceTransformer(\"all-mpnet-base-v2\")\n"
      ],
      "id": "4894c436"
    },
    {
      "cell_type": "markdown",
      "metadata": {},
      "source": [
        "Verdict : on fait très légèrement mieux que la vectorisation TF-IDF.\n",
        "On voit donc l’importance de tenir compte du contexte.\n",
        "\n",
        "**Mais pourquoi, avec une méthode très compliquée, ne parvenons-nous pas à battre une méthode toute simple ?**\n",
        "\n",
        "On peut avancer plusieurs raisons :\n",
        "\n",
        "-   le `TF-IDF` est un modèle simple, mais toujours très performant\n",
        "    (on parle de *“tough-to-beat baseline”*).\n",
        "-   la classification d’auteurs est une tâche très particulière et très ardue,\n",
        "    qui ne fait pas justice aux *embeddings*. Comme on l’a dit précédemment, ces derniers se révèlent particulièrement pertinents lorsqu’il est question de similarité sémantique entre des textes (*clustering*, etc.).\n",
        "\n",
        "Dans le cas de notre tâche de classification, il est probable que\n",
        "certains mots (noms de personnage, noms de lieux) soient suffisants pour classifier de manière pertinente,\n",
        "ce que ne permettent pas de capter les *embeddings* qui accordent à tous les mots la même importance.\n",
        "\n",
        "# 10. Aller plus loin\n",
        "\n",
        "-   Nous avons entraîné différents modèles sur l’échantillon d’entraînement par validation croisée, mais nous n’avons toujours pas utilisé l’échantillon test que nous avons mis de côté au début. Réaliser la prédiction sur les données de test, et vérifier si l’on obtient le même classement des méthodes de vectorisation.\n",
        "-   Faire un *vrai* split train/test : faire l’entraînement avec des textes de certains auteurs, et faire la prédiction avec des textes d’auteurs différents. Cela permettrait de neutraliser la présence de noms de lieux, de personnages, etc.\n",
        "-   Comparer avec d’autres algorithmes de classification qu’un SVM\n",
        "-   (Avancé) : fine-tuner le modèle d’embeddings contextuels sur la tâche de classification"
      ],
      "id": "dfe6d843-b1db-4853-b3e7-615e79d76944"
    }
  ],
  "nbformat": 4,
  "nbformat_minor": 5,
  "metadata": {
    "kernelspec": {
      "name": "python3",
      "display_name": "Python 3 (ipykernel)",
      "language": "python"
    },
    "language_info": {
      "name": "python",
      "codemirror_mode": {
        "name": "ipython",
        "version": "3"
      },
      "file_extension": ".py",
      "mimetype": "text/x-python",
      "nbconvert_exporter": "python",
      "pygments_lexer": "ipython3",
      "version": "3.11.6"
    }
  }
}