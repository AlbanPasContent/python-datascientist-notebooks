{
  "cells": [
    {
      "cell_type": "markdown",
      "metadata": {},
      "source": [
        "# Corrections\n",
        "\n",
        "Lino Galiana  \n",
        "2024-09-23\n",
        "\n",
        "Se rendre sur la page en question sur <https://pythonds.linogaliana.fr> pour consulter le contenu."
      ],
      "id": "0f4f4843-e566-4eed-8ef7-065fa28701f1"
    }
  ],
  "nbformat": 4,
  "nbformat_minor": 5,
  "metadata": {
    "kernelspec": {
      "display_name": "Python 3",
      "language": "python",
      "name": "python3"
    }
  }
}