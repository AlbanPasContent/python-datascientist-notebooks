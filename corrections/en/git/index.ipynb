{
  "cells": [
    {
      "cell_type": "markdown",
      "metadata": {},
      "source": [
        "# Git: un outil nécessaire pour les data scientists\n",
        "\n",
        "Lino Galiana  \n",
        "2024-09-23\n",
        "\n",
        "Cette partie du site présente un élément qui n’est pas propre à\n",
        "`Python` mais qui est néanmoins indispensable : la pratique de `Git`.\n",
        "\n",
        "Une grande partie du contenu de la partie provient\n",
        "d’un [cours dédié fait avec Romain Avouac](https://inseefrlab.github.io/formation-bonnes-pratiques-git-R/slides/img/ghflow.png).\n",
        "\n",
        "Le chapitre [de présentation de `Git`](introgit.qmd) propose\n",
        "une introduction visant à présenter l’intérêt d’utiliser\n",
        "cet outil. Une mise en pratique est proposée\n",
        "avec [un cadavre exquis](exogit.qmd).\n",
        "\n",
        "## 0.1 Utilisation de `Git` avec `Python`\n",
        "\n",
        "`Git` est à la fois un outil et un langage. Il\n",
        "est donc nécessaire d’installer, dans un premier\n",
        "temps `Git Bash`, puis de connecter\n",
        "son outil préféré pour faire du `Python` (qu’il\n",
        "s’agisse de `Jupyter`, `VSCode` ou `PyCharm`).\n",
        "\n",
        "Cette partie est structurée en 2 temps :\n",
        "\n",
        "-   [Présentation de `Git`](../../content/git/introgit.qmd)\n",
        "-   [Exercice pour découvrir `Git`](../../content/git/exogit.qmd)"
      ],
      "id": "18bee6f3-d1ae-466a-8179-5cf214610f16"
    }
  ],
  "nbformat": 4,
  "nbformat_minor": 5,
  "metadata": {
    "kernelspec": {
      "display_name": "Python 3",
      "language": "python",
      "name": "python3"
    }
  }
}