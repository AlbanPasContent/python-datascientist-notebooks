{
  "cells": [
    {
      "cell_type": "markdown",
      "metadata": {},
      "source": [
        "# Corrections\n",
        "\n",
        "Lino Galiana  \n",
        "2024-09-23\n",
        "\n",
        "Se rendre sur la page en question sur <https://pythonds.linogaliana.fr> pour consulter le contenu."
      ],
      "id": "9bd839e5-83e4-43fb-b5bd-2b461f1f9a42"
    }
  ],
  "nbformat": 4,
  "nbformat_minor": 5,
  "metadata": {
    "kernelspec": {
      "display_name": "Python 3",
      "language": "python",
      "name": "python3"
    }
  }
}