{
  "cells": [
    {
      "cell_type": "markdown",
      "metadata": {},
      "source": [
        "# Partie 5: Introduction aux outils et méthodes à l’état de l’art\n",
        "\n",
        "Lino Galiana  \n",
        "2024-09-23\n",
        "\n",
        "Les parties précédentes étaient très tournées sur l’acquisition\n",
        "de compétences minimales dans chaque domaine de l’analyse de données.\n",
        "Cette partie propose des éléments plus avancés mais plus représentatifs\n",
        "du travail quotidien du *data scientist*. Cette partie\n",
        "présente la manière dont `Python` peut être utilisé dans une architecture\n",
        "moderne de type *cloud*. Elle illustre la manière dont `Python` peut\n",
        "servir de couteau-suisse faisant l’interface entre différents\n",
        "langages plus efficaces ou plusieurs types de données.\n",
        "\n",
        "Cette partie est **en cours de construction** et présentera les\n",
        "éléments suivants :\n",
        "\n",
        "-   [x] S3\n",
        "-   [x] Intégration continue\n",
        "-   [ ] Elastic\n",
        "-   [ ] Spark\n",
        "-   [ ] Pipelines\n",
        "-   [ ] MLops"
      ],
      "id": "9282979f-4f85-44c2-a0f2-b9cece202197"
    }
  ],
  "nbformat": 4,
  "nbformat_minor": 5,
  "metadata": {
    "kernelspec": {
      "display_name": "Python 3",
      "language": "python",
      "name": "python3"
    }
  }
}